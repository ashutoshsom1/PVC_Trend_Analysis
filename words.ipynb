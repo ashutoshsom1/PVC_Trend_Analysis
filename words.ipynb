{
 "cells": [
  {
   "cell_type": "code",
   "execution_count": 1,
   "metadata": {},
   "outputs": [
    {
     "name": "stdout",
     "output_type": "stream",
     "text": [
      "hi\n"
     ]
    }
   ],
   "source": [
    "print(\"hi\")"
   ]
  },
  {
   "cell_type": "code",
   "execution_count": 6,
   "metadata": {},
   "outputs": [
    {
     "ename": "DeprecationError",
     "evalue": "reader.getPage(pageNumber) is deprecated and was removed in PyPDF2 3.0.0. Use reader.pages[page_number] instead.",
     "output_type": "error",
     "traceback": [
      "\u001b[1;31m---------------------------------------------------------------------------\u001b[0m",
      "\u001b[1;31mDeprecationError\u001b[0m                          Traceback (most recent call last)",
      "\u001b[1;32mc:\\Users\\ashutosh.somvanshi\\PVC_Trend_Analysis\\words.ipynb Cell 2\u001b[0m in \u001b[0;36m<cell line: 5>\u001b[1;34m()\u001b[0m\n\u001b[0;32m      <a href='vscode-notebook-cell:/c%3A/Users/ashutosh.somvanshi/PVC_Trend_Analysis/words.ipynb#W1sZmlsZQ%3D%3D?line=8'>9</a>\u001b[0m \u001b[39m# Loop through each page in the PDF file\u001b[39;00m\n\u001b[0;32m     <a href='vscode-notebook-cell:/c%3A/Users/ashutosh.somvanshi/PVC_Trend_Analysis/words.ipynb#W1sZmlsZQ%3D%3D?line=9'>10</a>\u001b[0m \u001b[39mfor\u001b[39;00m page_num \u001b[39min\u001b[39;00m pdf_reader\u001b[39m.\u001b[39mpages:\n\u001b[0;32m     <a href='vscode-notebook-cell:/c%3A/Users/ashutosh.somvanshi/PVC_Trend_Analysis/words.ipynb#W1sZmlsZQ%3D%3D?line=10'>11</a>\u001b[0m     \u001b[39m# Get the text data for the current page\u001b[39;00m\n\u001b[1;32m---> <a href='vscode-notebook-cell:/c%3A/Users/ashutosh.somvanshi/PVC_Trend_Analysis/words.ipynb#W1sZmlsZQ%3D%3D?line=11'>12</a>\u001b[0m     page \u001b[39m=\u001b[39m pdf_reader\u001b[39m.\u001b[39;49mgetPage(page_num)\n\u001b[0;32m     <a href='vscode-notebook-cell:/c%3A/Users/ashutosh.somvanshi/PVC_Trend_Analysis/words.ipynb#W1sZmlsZQ%3D%3D?line=12'>13</a>\u001b[0m     text_data \u001b[39m=\u001b[39m page\u001b[39m.\u001b[39mextractText()\n\u001b[0;32m     <a href='vscode-notebook-cell:/c%3A/Users/ashutosh.somvanshi/PVC_Trend_Analysis/words.ipynb#W1sZmlsZQ%3D%3D?line=14'>15</a>\u001b[0m     \u001b[39m# Use regular expressions to extract words from the text data\u001b[39;00m\n",
      "File \u001b[1;32mc:\\Users\\ashutosh.somvanshi\\Anaconda3\\lib\\site-packages\\PyPDF2\\_reader.py:476\u001b[0m, in \u001b[0;36mPdfReader.getPage\u001b[1;34m(self, pageNumber)\u001b[0m\n\u001b[0;32m    470\u001b[0m \u001b[39mdef\u001b[39;00m \u001b[39mgetPage\u001b[39m(\u001b[39mself\u001b[39m, pageNumber: \u001b[39mint\u001b[39m) \u001b[39m-\u001b[39m\u001b[39m>\u001b[39m PageObject:  \u001b[39m# pragma: no cover\u001b[39;00m\n\u001b[0;32m    471\u001b[0m     \u001b[39m\"\"\"\u001b[39;00m\n\u001b[0;32m    472\u001b[0m \u001b[39m    .. deprecated:: 1.28.0\u001b[39;00m\n\u001b[0;32m    473\u001b[0m \n\u001b[0;32m    474\u001b[0m \u001b[39m        Use :code:`reader.pages[page_number]` instead.\u001b[39;00m\n\u001b[0;32m    475\u001b[0m \u001b[39m    \"\"\"\u001b[39;00m\n\u001b[1;32m--> 476\u001b[0m     deprecation_with_replacement(\n\u001b[0;32m    477\u001b[0m         \u001b[39m\"\u001b[39;49m\u001b[39mreader.getPage(pageNumber)\u001b[39;49m\u001b[39m\"\u001b[39;49m, \u001b[39m\"\u001b[39;49m\u001b[39mreader.pages[page_number]\u001b[39;49m\u001b[39m\"\u001b[39;49m, \u001b[39m\"\u001b[39;49m\u001b[39m3.0.0\u001b[39;49m\u001b[39m\"\u001b[39;49m\n\u001b[0;32m    478\u001b[0m     )\n\u001b[0;32m    479\u001b[0m     \u001b[39mreturn\u001b[39;00m \u001b[39mself\u001b[39m\u001b[39m.\u001b[39m_get_page(pageNumber)\n",
      "File \u001b[1;32mc:\\Users\\ashutosh.somvanshi\\Anaconda3\\lib\\site-packages\\PyPDF2\\_utils.py:369\u001b[0m, in \u001b[0;36mdeprecation_with_replacement\u001b[1;34m(old_name, new_name, removed_in)\u001b[0m\n\u001b[0;32m    363\u001b[0m \u001b[39mdef\u001b[39;00m \u001b[39mdeprecation_with_replacement\u001b[39m(\n\u001b[0;32m    364\u001b[0m     old_name: \u001b[39mstr\u001b[39m, new_name: \u001b[39mstr\u001b[39m, removed_in: \u001b[39mstr\u001b[39m \u001b[39m=\u001b[39m \u001b[39m\"\u001b[39m\u001b[39m3.0.0\u001b[39m\u001b[39m\"\u001b[39m\n\u001b[0;32m    365\u001b[0m ) \u001b[39m-\u001b[39m\u001b[39m>\u001b[39m \u001b[39mNone\u001b[39;00m:\n\u001b[0;32m    366\u001b[0m     \u001b[39m\"\"\"\u001b[39;00m\n\u001b[0;32m    367\u001b[0m \u001b[39m    Raise an exception that a feature was already removed, but has a replacement.\u001b[39;00m\n\u001b[0;32m    368\u001b[0m \u001b[39m    \"\"\"\u001b[39;00m\n\u001b[1;32m--> 369\u001b[0m     deprecation(DEPR_MSG_HAPPENED\u001b[39m.\u001b[39;49mformat(old_name, removed_in, new_name))\n",
      "File \u001b[1;32mc:\\Users\\ashutosh.somvanshi\\Anaconda3\\lib\\site-packages\\PyPDF2\\_utils.py:351\u001b[0m, in \u001b[0;36mdeprecation\u001b[1;34m(msg)\u001b[0m\n\u001b[0;32m    350\u001b[0m \u001b[39mdef\u001b[39;00m \u001b[39mdeprecation\u001b[39m(msg: \u001b[39mstr\u001b[39m) \u001b[39m-\u001b[39m\u001b[39m>\u001b[39m \u001b[39mNone\u001b[39;00m:\n\u001b[1;32m--> 351\u001b[0m     \u001b[39mraise\u001b[39;00m DeprecationError(msg)\n",
      "\u001b[1;31mDeprecationError\u001b[0m: reader.getPage(pageNumber) is deprecated and was removed in PyPDF2 3.0.0. Use reader.pages[page_number] instead."
     ]
    }
   ],
   "source": [
    "import PyPDF2\n",
    "import re\n",
    "\n",
    "# Open the PDF file in read-binary mode\n",
    "with open(r\"C:\\Users\\ashutosh.somvanshi\\Downloads\\Applications_and_Market_of_PVC_for_Piping_Industry (1).pdf\", 'rb') as pdf_file:\n",
    "    # Create a PDF reader object\n",
    "    pdf_reader = PyPDF2.PdfReader(pdf_file)\n",
    "    \n",
    "    # Loop through each page in the PDF file\n",
    "    for page_num in pdf_reader.pages:\n",
    "        # Get the text data for the current page\n",
    "        page = pdf_reader.getPage(page_num)\n",
    "        reader.pages[page_number]\n",
    "        text_data = page.extractText()\n",
    "        \n",
    "        # Use regular expressions to extract words from the text data\n",
    "        words = re.findall(r'\\b\\w+\\b', text_data)\n",
    "        \n",
    "        # Print the list of words\n",
    "        print(words)\n"
   ]
  },
  {
   "cell_type": "code",
   "execution_count": 8,
   "metadata": {},
   "outputs": [
    {
     "name": "stdout",
     "output_type": "stream",
     "text": [
      "Collecting PyPDF4\n",
      "  Downloading PyPDF4-1.27.0.tar.gz (63 kB)\n",
      "     -------------------------------------- 63.9/63.9 kB 852.1 kB/s eta 0:00:00\n",
      "  Preparing metadata (setup.py): started\n",
      "  Preparing metadata (setup.py): finished with status 'done'\n",
      "Building wheels for collected packages: PyPDF4\n",
      "  Building wheel for PyPDF4 (setup.py): started\n",
      "  Building wheel for PyPDF4 (setup.py): finished with status 'done'\n",
      "  Created wheel for PyPDF4: filename=PyPDF4-1.27.0-py3-none-any.whl size=61237 sha256=055b627be083fa43b763651b955db1f8e0eb0fb112ca60ac22bce26bddee7e23\n",
      "  Stored in directory: c:\\users\\ashutosh.somvanshi\\appdata\\local\\pip\\cache\\wheels\\3f\\ce\\a6\\13cce0b2bac584d3c631cd0c34b6adabde81a8278dcbd64c88\n",
      "Successfully built PyPDF4\n",
      "Installing collected packages: PyPDF4\n",
      "Successfully installed PyPDF4-1.27.0\n"
     ]
    },
    {
     "name": "stderr",
     "output_type": "stream",
     "text": [
      "\n",
      "[notice] A new release of pip available: 22.3.1 -> 23.1.2\n",
      "[notice] To update, run: python.exe -m pip install --upgrade pip\n"
     ]
    }
   ],
   "source": [
    "!pip install PyPDF4"
   ]
  },
  {
   "cell_type": "code",
   "execution_count": 38,
   "metadata": {},
   "outputs": [
    {
     "name": "stdout",
     "output_type": "stream",
     "text": [
      "['', '58\\n \\nPolímeros: Ciência e Tecnologia, vol. 19, nº 1, p. 58-62, 2009\\nAutor para correspondência: Estevão Freire\\n, Departamento de Engenharia Química, UCS, R. Francisco Getúlio Vargas 1130, Petrópolis, CEP: 95070-560, \\nCaxias do Sul, RS, Brasil. E-mail: efreire@ucs.br\\n\\nApplications of PVC in Industry \\nIn terms of revenue generated, PVC is one of the most \\nvaluable products of the chemical industry. Globally, over \\n50% of PVC manufactured is used in construction. As a \\nbuilding material, PVC is cheap and easy to assemble. In \\nrecent years, PVC has been replacing traditional building \\nmaterials such as wood, concrete and clay in many areas. \\nDespite claims that PVC production negatively affects the \\nnatural environment and human health, it is still widely \\nused\\n[4]\\n.\\nThere are many uses for PVC. As a rigid plastic, it is \\nused as vinyl siding, magnetic stripe cards, window pro˜\\n-\\nle, pipe, plumbing and conduit ˜xtures. PVC is common\\n-\\nly used as the insulation on electric wires\\n[5]\\n. Frequently in \\napplications where smoke is a major hazard (notably in \\ntunnels) PVC-free LSOH (low-smoke, zero-halogen) cable \\ninsulation is used. \\nIn ˚at sheet form, polyvinyl chloride is often expanded \\nto create voids in the material, providing additional thick\\n-\\nness without additional weight. These sheets and ˜lms are \\nused to produce a wide variety of commercial signage pro\\n-\\nducts. The unplasticized polyvinyl chloride (uPVC) is being \\nused in the building industry as a low maintenance material, \\nparticularly in the UK and in the USA, where it is known \\nas vinyl. The same material has almost entirely replaced the \\nuse of cast iron for plumbing and drainage, being used for \\nwaste pipes, drainpipes, gutters and down pipes\\n[5]\\n.\\nThe recycling of PVC can be performed in different \\nways. Some PVC manufacturers have vinyl recycling pro\\n-\\ngrams, recycling both manufacturing waste back into their \\nproducts, as well as post consumer PVC construction ma\\n-\\nterials to reduce the load on land˜lls. Another alternative to \\nIntroduction\\nWorldwide, extruder lines are the largest converters of \\nplastics and can be considered the most important produc\\n-\\ntion machinery in the plastic industry. Commercially, ex\\n-\\ntrusion lines are target to give advantages with regard to \\noperating cost (output per hour). It is possible to produce \\nthroughout extrusion ˜lms, sheets, pro˜les, pipes, tubes, \\nrods, wire coverings, coatings, ˜laments, blown shapes \\nand many others. Pipes are one of the most important parts \\nmade by extrusion, and it has a wide range of applications, \\nespecially in the industry. The two main reasons that make \\nthem attractive to the processors and markets are their al\\n-\\nmost unlimited range of applications and their continuous \\nproduction capabilities to meet new market challenges\\n[1]\\n.\\nThe production of thermoplastic pipe systems is a major \\nindustry which accounts for a signi˜cant volume of poly\\n-\\nmers. Use of plastics materials by the building industry re\\n-\\npresents the second largest worldwide market for polymers. \\nFor pipe production this amount to a total market demands \\nof nearly 3 million tons in Europe for 2000™s\\n[2]\\n.\\nPlastic pipes started commercial production during the \\nlate 1930™s. There are different de˜nitions that are usually \\nassociated with the different industries (plumbing, gas \\ntransmission lines, beverages, medical, mining, etc.). The \\nmost known and acceptable is that pipe is a rigid, hollow, \\nlong and larger piece in diameter than tubes\\n[1]\\n. Tubings are \\nbasically the same except they are ˚exible and smaller in \\ndiameter with thin walls up to 6 in\\n[3]\\n. \\nThis paper covers the production of PVC pipes made \\nby extrusion, a market study and the machinery and equip\\n-\\nments needed for a PVC extrusion line. \\nApplications and Market of PVC for Piping Industry\\nJohnny De N. Martins, Estevão Freire\\nDepartamento de Engenharia Química, UCS\\nHenry Hemadipour\\nKansas Technology Center, Pittsburg State University, USA\\nAbstract: \\nThe use of plastic materials by the piping industry accounts for a signi˜cant volume of polymers. In this segment \\nPVC represents the largest worldwide market for plastics. PVC is often used in plastic pressure pipe systems for pipelines \\nin the water and sewer industries because of its inexpensive nature and ˚exibility. Pipes and ˜ttings constitute the largest \\nvolume application at 40% of the marketplace. This paper discusses the piping extrusion process and the worldwide PVC \\nmarket, emphasizing the Brazilian market. It is also presented a case study including an overall cost calculation for making \\nan extrusion line for PVC piping. \\nKeywords: \\nPVC, piping industry, market, extrusion process.\\n', 'Martins, J. N. et al. -\\n Applications and market of PVC for piping industry\\nPolímeros: Ciência e Tecnologia, vol. 19, nº 1, p. 58-62, 2009\\n \\n59\\nOther polymers\\nVinyl polymers and ABS does not show dif˜cult to melt, \\nhaving properties superior to the pipe material when proper \\nbonding procedure are used\\n[1]\\n. HDPE is used in various ap\\n-\\nplications, such as pressurized gas and water pipelines that \\nrequire high mechanical strength. Polyethylene requires ope\\n-\\nration at the lowest possible melt temperatures while main\\n-\\ntaining a high level of thermal-mechanical homogeneity in \\nthe melt\\n[1]\\n. Polyamide is extruded at a low melt temperature \\nas possible to provide suf˜cient melt viscosity and to mini\\n-\\nmize thermal degradation; this makes polyamide dif˜cult to \\nprocess and add additional costs to the production\\n[1]\\n. \\nThermoplastic polyesters can provide toughness, ˚exibi\\n-\\nlity, and low temperature properties to the pipes. The control \\nof the melt temperature is important; if too high it can reduce \\nthe melt strength signi˜cantly, the result will be a irregular \\nwall thickness. If the temperature is too low, it can result in a \\npoor tube ˜nishing, uneven dimensions, and weld lines. This \\ntemperature control also means dif˜culty of production and \\nelevated costs in machinery and auxiliary equipments\\n[1]\\n.\\nUHMWPE can be used when traditional plastics resins \\nare unable to meet performance requirements. Their signi˜\\n-\\ncant properties include exceptional high chemical resistance, \\ncorrosion resistance, environmental stress crack resistance, \\nand abrasion resistance. However this material has high costs \\nand need an extensive process conditions control\\n[1]\\n.\\nPipes Extrusion Process\\nPipe is a tube or hollow cylinder for the conveyance of \\n˚uid. The terms ﬁpipeﬂ and ﬁtubingﬂ are almost interchan\\n-\\ngeable. ﬁTubeﬂ is often made to custom sizes and may have \\nmore speci˜c sizes and tolerances than pipe, depending on \\nthe application. The term ﬁtubingﬂ can also be applied to \\ntubes of a non-cylindrical nature (i.e. square tubing). The \\nterm ﬁtubingﬂ is more widely used in the USA and ﬁpipeﬂ \\nelsewhere in the world\\n[10]\\n.\\nPipe may be speci˜ed by standard pipe size designations, \\nsuch as Nominal Pipe Size (in the US), or by nominal, out\\n-\\nside, or inside diameter and wall thickness. Many industrial \\nand government standards exist for the production of pipe \\nand tubing\\n[11]\\n.\\nMost pipes are made through extrusion, in-line with \\nthe direction of extrusion, die, sizing or calibrating device \\nor tank, water cooling tank, conveyor, and cutter, if needed, \\nand take off equipment at the end of the line. The line could \\ninclude a marking device or a testing device. An important \\nrequirement is to cool the extrudate rather fast near the die \\nwhile keeping control of dimensions and properties\\n[7]\\n.\\nIncluded in the processes are various techniques to control \\nthe dimensions/sizes that are either free drawn melts (usually \\nfor the small diameter tubes) or sizing features. The total cost \\nof producing the pipe could include material costs of up to \\n80%. The goal is always to get a tighter tolerance control to \\nthe land˜ll are incineration, however the incineration of PVC \\ngenerate air pollutants such as HCl and dioxine\\n[6]\\n. \\n \\n\\nTable 1 \\nshows the most common properties of the rigid PVC. \\nMaterial Choice for Piping\\nThe choice for a given material to use in piping is limited \\nby performance, installation, and maintenance requirements, \\nas well as by the availability of ˜ttings. For applications re\\n-\\nquiring maximum joint strength and chemical resistance \\nmost thermoplastics can be used, but ˜rst they have to pass \\nby a bonding process\\n[1]\\n.\\nPVC\\nThe most used plastic for application in extrusion is PVC. \\nPVC dry blends allow the processor to take advantages of \\nusing their own compounding formulations that should pro\\n-\\nvide costs advantages\\n[7]\\n. \\nReferring to U.S market, the material is often used in plas\\n-\\ntic pressure pipe systems for pipelines in the water and sewer \\nindustries because of its inexpensive nature and ˚exibility. \\nPVC pipe plumbing is typically white, as opposed to ABS, \\nwhich is commonly available in grey as well as white\\n[8]\\n.\\nPolyvinyl chloride is widely used for producing pipes. \\nIn the water distribution market it accounts for 66 percent \\nof the market in the US, and in sanitary sewer pipe appli\\n-\\ncations, it accounts for 75 percent. In February 2007, the \\n \\n\\nCalifornia Building Standards Code was updated to approve \\nthe use of chlorinated polyvinyl chloride (CPVC) pipe for \\nuse in residential water supply piping systems. CPVC has \\nbeen a nationally accepted material in the US since 1982; ho\\n-\\nwever, California has only permitted its use on a limited ba\\n-\\nsis since 2001. The Department of Housing and Community \\n \\n\\nDevelopment prepared and certi˜ed an Environmental Impact \\nReport resulting in a recommendation that the Commission \\nadopt and approve the use of CPVC. The Commission™s vote \\nwas unanimous and CPVC was placed in the 2007 \\n \\n\\nCalifornia \\nPlumbing Code\\n[9]\\n.\\nTable 1. \\nGeneral properties of the rigid PVC\\n[7]\\n.\\nProperty\\nValue\\nDensity\\n1380 kg/m\\n3\\nYoung™s modulus \\n2900-3300 MPa\\nTensile strength \\n50-80 MPa\\nElongation @ break\\n20-40%\\nImpact strengtht\\n2-5 kJ/m²\\nGlass temperature\\n87 °C\\nMelting point\\n212 °C\\nVicat temperature\\n85 °C\\nHeat transfer coef˜cient \\n0.16 W/m.K\\nLinear expansion coef˜cient\\n8.10\\n-5\\n /K\\nSpeci˜c heat \\n0.9 kJ/(kg·K)\\nWater absorption \\n0.04-0.4\\n', 'Martins, J. N. et al. -\\n Applications and market of PVC for piping industry\\n60\\n \\nPolímeros: Ciência e Tecnologia, vol. 19, nº 1, p. 58-62, 2009\\nThe Table 2 below shows the most common troubleshoo\\n-\\nting in pipe extrusion.\\nMarket Study\\nBecause of the nature of the building industry, demand \\nfor pipe products tends to be cyclical, with re˚ections in the \\neconomy. Rapidly ˚uctuating polymer prices and pressure on \\nprices from the consumer end have led to an unstable envi\\n-\\nronment with producer margins being eroded. Many years of \\nrecession, notably in the construction industry, have slowed \\nthe development of the market which is plagued with overca\\n-\\npacity. The structure of the industry has thus been subject to \\nconsiderable change and upheaval in recent years\\n[2]\\n.\\nTwenty per cent of all the resin sold in the world today, \\nconsists of PVC. It is the second most used plastics mate\\n-\\nrial in the world\\n[12]\\n. The PVC global market size in 2007 was \\naround 32.2 million tonnes, and the forecast for 2011 is about \\n39 million tonnes according researched data\\n[12]\\n. The largest \\nworldwide consumption market in 2007 was mainly due to \\nU.S. and Canada, responsible for 25% of all PVC resin con\\n-\\nsumption in the world, while Brazilian market was respon\\n-\\nsible only for 2% of worldwide consumption\\n[13]\\n. Pipes and \\n˜ttings constitute the largest volume application at 40% of \\nthe global market with pro˜les at 17%\\n[2]\\n.\\nThe PVC consumption per capita in 2006 in Brazil \\nwas about 4 kg/habitant, a low consumption when com\\n-\\npared to North American consumption that was about \\n15 kg/habitant\\n[13]\\n. \\nAfter many years of stagnation, Brazilian PVC market \\nfaces a very good moment, especially due to building and \\nconstruction industry. The credit for housing was increased \\nby Brazilian Government from $ 2,5 billion to $ 5,1\\n \\nbillion \\nin order to reduce the housing de˜cit, 350,000 houses were \\nreduce material consumption. Dimensional and/or thickness \\ncalibrating disks of different designs are used.\\n A combination of the melt properties, rate of the line spe\\n-\\ned, internal air pressure, and rate of cooling in˚uences the \\nsize of the tube. The melt drawdown ratio from the die into \\nthe water cooling trough is directly related to the ˜nal size of \\nthe tube. Depending on the plastics being processed, the ratio \\nranges from 4/1 to 10/1. Using low ratios helps to minimize \\nextruded-in stresses, which can lead to problems related to \\nshrinking and stress cracking\\n[7]\\n.\\nDepending on the characteristics of the plastics being \\nprocessed, shrinkage can occur within 24 hours period after \\nleaving the processing line. The tube or pipe may also be \\nsubjected to annealing and other post conditions that could \\naffect the degree of shrinkage.\\nThere are many different ways pipe and tube products used \\nin moving liquids, gases, solids, and so forth. They can be sha\\n-\\nped to provide decorations, safety supports, and so on\\n[7]\\n.\\nSteps to reduce the cost to process plastic pipes include:\\n1) Operate to minimize outer diameter (OD) and internal \\ndiameter (ID) tolerances;\\n2) Improve in pipe quality and properties via studying \\ngains with compounding ingredients and blending \\nprocedures used;\\n3) Reduce set-up time by means of start-up aids and au\\n-\\ntomation systems;\\n4) Develop savings in electricity consumption by the op\\n-\\ntimization of the extruder; and\\n5) Use of ef˜cient dies, cooling tanks, pullers, and take-\\noff equipment.\\nThe tolerance control of pullers is critical to minimizing \\nOD and ID dimensions, particularly the smaller tube sizes. \\nA very slight variation in the puller speed can drastically in\\n-\\n˚uence their dimensions and waste of plastics.\\nTable 2. \\nCommon troubleshooting in pipe extrusion\\n[1]\\n.\\nProblem\\nCause\\nSolution\\nWavy inside surface\\nMelt temperature too low\\nLow lubricant level\\nPulsating drawdown\\nIncrease set temperatures\\nCorrect formulation\\nCheck caterpillar\\nExcessive extrude thickness\\nInadequate die gap\\nInadequate operating conditions\\nAdjust or replace die\\nAdjust melt temperatures\\nLine, streaks and foreign specks\\nDirty die\\nScratched die lips\\nDrag plug too close to die\\nExcessive melt temperature\\nContaminated melt ˚ow\\nClean die\\nRepair die \\nCorrect drag-plug location\\nReduce set temperatures\\nCheck compound\\nSharkskin, melt fracture\\nMelt temperature too low\\nFriction at the die lips\\nIncrease the die lips temperature\\nRepair die lips coating\\nModify formulation\\nExtrudate velocity with a transversal component\\nUnbalanced exit ˚ow\\nTemperature ˚uctuations in die\\nDirty die\\nModify die land geometry\\nCheck heaters and thermocouples\\nCheck set temperatures\\n', 'Martins, J. N. et al. -\\n Applications and market of PVC for piping industry\\nPolímeros: Ciência e Tecnologia, vol. 19, nº 1, p. 58-62, 2009\\n \\n61\\nextrusion process cost about $ 6,000. The speci˜cations of a \\ncooling tank should consider the following aspects\\n[15]\\n.\\n\\n\\n\\n\\n\\n\\n\\n\\n\\n\\n\\n\\n\\nEssential auxiliary equipment in a pipe extrusion line is \\na haul-off unit. The haul-off unit grips the pipe over a long \\nlength and pulls it at a constant speed. The haul-off consists \\nof a number of pulling belts around the pipe. The pulling \\nbelts, which are located under the extrusion axis, are mecha\\n-\\nnically adjustable. The pulling belts, which are located above \\nthe extrusion axis, are driven pneumatically. This equipment \\nusually costs about $ 7,000\\n[15]\\n.\\nPVC pipe is a big and a very competitive market, so qua\\n-\\nlity and pro˜tability have been the most important require\\n-\\nment for years. The wall thickness of the pipe is the most \\nimportant factor to be considered in a pipe production, that™s \\nwhy a wall thickness ultrasonic measure control (UMC) can \\nbe attached to the extruder to do this measurement. The wall \\nthickness ultrasonic control is needed to maintain the high \\n˜nanced last year and 560,000 are expected to be in 2010\\n[13]\\n. \\nTables 3 and 4 show the annual consumption in Brazil from \\n1995 to 2007 and the market segmentation \\n \\nrespectively.\\nIllustration of a PVC Cost Production for Piping \\nMachine\\nA typical extruder used in the processing of PVC pipes \\ncost between $ 300,000 and $ 500,000. This model considers \\na typical extruder with the following characteristics\\n[14]\\n.\\n\\n\\n\\n\\nL/D ratio;\\n\\n\\nside vented barrel;\\n\\n\\n\\ntwo heat exchangers;\\n\\n\\n\\n\\nreducer. \\nAuxiliary equipments \\nA typical pipe line needs some auxiliary equipment besi\\n-\\ndes the extruder used for the work. A cooling tank is indis\\n-\\npensable in any extrusion line. A typical cooling tank for pipe \\nTable 3. \\nAnnual consumption in Brazil.\\nYear\\nProduction (mil tonnes)\\nImportation (mil tonnes)\\nExportations (mil tonnes)\\nReal consumption (mil tonnes)\\nAnnual growth (%)\\n1995\\n581,332\\n63,654\\n146,743\\n498,243\\n-\\n1996\\n626,959\\n82,548\\n132,573\\n576,934\\n15.8\\n1997\\n631,851\\n61,471\\n69,482\\n623,840\\n8.1\\n1998\\n632,267\\n122,673\\n42,500\\n712,440\\n14.2\\n1999\\n658,471\\n62,889\\n59,696\\n661,664\\n7.1\\n2000\\n648,199\\n117,847\\n34,904\\n731,142\\n10.5\\n2001\\n538,091\\n129,166\\n46,759\\n620,498\\n15.1\\n2002\\n602,458\\n141,852\\n55,469\\n688,841\\n11.0\\n2003\\n604,088\\n86,397\\n86,865\\n603,620\\n12.4\\n2004\\n629,747\\n94,521\\n50,235\\n674,033\\n11.7\\n2005\\n640,319\\n119,491 \\n65,632\\n694,178\\n3.0 \\n2006\\n676,263\\n126,647 \\n35,617\\n767,292\\n10.5 \\n2007\\n686,464\\n176,748\\n43,211\\n820,001\\n6.9\\nTable 4. \\nMarket segmentation in Brazil.\\nProduct\\n1997 (%)\\n1998 (%)\\n1999 (%)\\n2000 (%)\\n2001 (%)\\n2002 (%)\\n2003 (%)\\n2004 (%)\\n2005 (%)\\n2006 (%)\\nPiping\\n54.4\\n57.6\\n52.2\\n52.5\\n51\\n51.2\\n46.4\\n44.4\\n43.3\\n44.2\\nFilms and bottles\\n48\\n6.3\\n8.4\\n8.5\\n9\\n5\\n4.5\\n5.1\\n6.6\\n5.7\\nConstruction industry\\n3.5\\n3.8\\n8.1\\n8.8\\n10.5\\n10\\n11.9\\n12.3\\n13.1\\n14\\nPlates and sheets\\n16.3\\n13.5\\n10.9\\n11.8\\n12\\n13.1\\n14.7\\n16\\n16.5\\n16.2\\nFootwear\\n6.5\\n6.9\\n6.3\\n5.8\\n5.5\\n7.2\\n7.9\\n8.4\\n7.1\\n7.8\\nWires and cables\\n7\\n7.6\\n7.6\\n7.8\\n7.5\\n7.3\\n6.7\\n5.5\\n5.3\\n4.7\\nHoses\\n-\\n-\\n-\\n-\\n-\\n-\\n-\\n-\\n3.1\\n2.6\\nOthers\\n7.5\\n6.3\\n6.5\\n4.8\\n4.5\\n6.2\\n7.9\\n8.3\\n5.2\\n4.8\\nTotal\\n100\\n100\\n100\\n100\\n100\\n100\\n100\\n100\\n100\\n100\\n', 'Martins, J. N. et al. -\\n Applications and market of PVC for piping industry\\n62\\n \\nPolímeros: Ciência e Tecnologia, vol. 19, nº 1, p. 58-62, 2009\\nincreases the cost of production due the high price of this \\nadditives.\\nThe costs of production are elevated due to the require\\n-\\nment of an extruder capable of high production, the cooling \\ntank, and mainly due to the necessity of a system to measure \\nand adjust the diameter of the pipe according to standards \\nused in its applications. \\nReferences\\n \\n1.\\n \\nRosato, D. V. - ﬁExtruding Plastics- Practical Processing \\nHandbookﬂ, First edition, Thomson Science Publica\\n-\\ntion, New York, (1998).\\n \\n2.\\n \\nhttp://www.researchandmarkets.com (consulted in Octo\\n-\\nber 2007). \\n \\n3.\\n \\nFarshad, M. - \\nPolymer Testing\\n \\n23\\n, p.967-972 (2004).\\n \\n4.\\n \\nGalloway, F. M. - \\nFire Mater.\\n \\n15\\n, p.181-189 (1992). \\n \\n5.\\n \\nAl-Malack, H. M. - \\nJournal Hazardous Materials\\n \\n82\\n, \\np.263-274 (2001). \\n \\n6.\\n \\nKim, S. - \\nWaste Management\\n. \\n21\\n, p.609-616 (2001). \\n \\n7.\\n \\nTitow, W. V. - ﬁPVC Technology Handbookﬂ, Elsevier \\nApplied Science Publications, London, (1984).\\n \\n8.\\n \\nhttp://www.vinylbydesign.com (consulted in October \\n2007). \\n \\n9.\\n \\nhttp://www.plasticsnews.com (consulted in October \\n2007). \\n \\n10.\\n \\nMcCauley, J. C.; Heald, R. & Hussain, I. M. - ﬁMachinery™s \\nHandbookﬂ, Industrial Press Inc, New York, (2000). \\n \\n11.\\n \\nSarvetnick, H. - Polyvinyl chloride, Polytechnical servi\\n-\\nces, New York, (1979). \\n \\n12.\\n \\nBlackburn, M. - ﬁ\\nGlobal PVC Market\\nﬂ, \\nin:\\n Anais do 2° \\nCongresso Brasileiro do PVC, São Paulo Jun (2007). \\n \\n13.\\n \\nThiehi, C. - ﬁ\\nSouth American PVC Marketﬂ\\n, \\nin:\\n Anais \\ndo 2° Congresso Brasileiro do PVC, São Paulo Jun \\n(2007). \\n \\n14.\\n \\nhttp://www.aaronequipment.com (consulted in Septem\\n-\\nber 2007). \\n \\n15.\\n \\nwww.esi-extrusion.com (consulted in November 2007). \\n \\n16.\\n \\nhttp://www.kwhtech.com (consulted in October 2007). \\n \\n17.\\n \\nYarahmadia, N.; Jakubowicza, I. & Hjertberg, T. -\\nPoly\\n-\\nmer Degrad. and Stabil. \\n82\\n, p.59-72 (2003). \\n \\n18.\\n \\nPita, V.; Sampaio, E. & Monteiro, E. - \\nPolymer Testing\\n \\n21\\n, p.545-550 (2002). \\n \\n19.\\n \\nCadogan, D. - ﬁ\\nPlasticisers of Today and Tomorrow- An \\nAlternativeﬂ\\n \\nin:\\n Anais do 2° Congresso Brasileiro do \\nPVC, São Paulo Jun (2007). \\nEnviado: 19/05/08\\nReenviado: 23/10/08\\nAceito: 30/10/08\\nand stable product quality and to minimize speci˜c raw ma\\n-\\nterial consumption. \\nThe UMC controls the following operations and related \\nparameters\\n[15]\\n.\\n\\n\\n\\n\\n\\n\\n\\n\\n\\n\\n\\n\\nAt the end of the extrusion line is necessary to have a \\ntraveling cut-off saw in order to cut the pipes produced into \\nthe length required. The traveling cut-off saw for a typical \\npipe extrusion line can be an automatic traveling cut off saw. \\nThe average cost for this equipment is $ 4,500\\n[16]\\n. Therefore, \\nthe average total cost of auxiliary equipments in an extrusion \\npipe lines is $ 27,500.\\nMaterials\\nThe average price of PVC resin is about $ 0.72 per pound. \\nBut as it is known PVC cannot be processed without use of \\nplasticizers and heat stabilizer\\n[17]\\n. Many additives such as plas\\n-\\nticizers, impact modi˜ers, processing aids, ˜llers, lubricants \\nand stabilizers have a decisive importance for the properties \\nof PVC. It is sometimes dif˜cult to make unplasticized PVC \\n˚ow smoothly through the processing equipment and produ\\n-\\nce homogeneous products\\n[17]\\n. The addition of plasticizers to \\na PVC formulation decreases many mechanical properties of \\nthe PVC product (hardness, tensile strength, modulus, etc.); \\nhowever, low-temperature ˚exibility, elongation, and the ease \\nof processing are all improved\\n[18]\\n. \\nGenerally phthalate, adipate and polymeric plasticizers \\nare used in the formulation of PVC. Usually, the most used \\nplasticizers cost approximately $ 2.00 per pound. A very \\ncommon PVC plasticizer like liquid butyltin carboxylate or \\nBa/Zn liquids alloys has an average cost of approximately \\n$\\n \\n10.00 per pound\\n[19]\\n.\\nConclusions\\nThe production of thermoplastic pipe systems is a major \\nindustry which accounts for a signi˜cant volume of poly\\n-\\nmers. The production of PVC pipes is extremely important \\nto this industry, since PVC pipes is widely used, especially \\nin water pipelines, and this industry will continually growing \\nthroughout the years.\\nThe extrusion process requires some adjustments, mainly \\nin terms of cooling system, die and resin preparation. PVC \\nrequires special attention because, it cannot be processed \\nwithout the use of plasticizers and heat stabilizers, which \\nView publication stats\\n']\n"
     ]
    }
   ],
   "source": [
    "import PyPDF4\n",
    "import re\n",
    "\n",
    "# Open the PDF file in read-binary mode\n",
    "with open(r\"C:\\Users\\ashutosh.somvanshi\\Downloads\\Applications_and_Market_of_PVC_for_Piping_Industry (1).pdf\", 'rb') as pdf_file:\n",
    "    # Create a PDF reader object\n",
    "    pdf_reader = PyPDF4.PdfFileReader(pdf_file)\n",
    "    ALL_text = []\n",
    "    # Loop through each page in the PDF file\n",
    "    for page_num in range(pdf_reader.getNumPages()):\n",
    "        # Get the text data for the current page\n",
    "        page = pdf_reader.getPage(page_num)\n",
    "        text_data = page.extractText()\n",
    "        ALL_text.append(text_data)\n",
    "        \n",
    "        \n",
    "        # Use regular expressions to extract words from the text data\n",
    "        # words = re.findall(r'\\b\\w+\\b', text_data)\n",
    "        \n",
    "        # Print the list of words\n",
    "        # print(words)\n",
    "        # print(text_data)\n",
    "    print(ALL_text)"
   ]
  },
  {
   "cell_type": "code",
   "execution_count": 57,
   "metadata": {},
   "outputs": [
    {
     "data": {
      "text/plain": [
       "6"
      ]
     },
     "execution_count": 57,
     "metadata": {},
     "output_type": "execute_result"
    }
   ],
   "source": [
    "len(ALL_text)"
   ]
  },
  {
   "cell_type": "code",
   "execution_count": 56,
   "metadata": {},
   "outputs": [
    {
     "ename": "TypeError",
     "evalue": "expected string or bytes-like object",
     "output_type": "error",
     "traceback": [
      "\u001b[1;31m---------------------------------------------------------------------------\u001b[0m",
      "\u001b[1;31mTypeError\u001b[0m                                 Traceback (most recent call last)",
      "\u001b[1;32mc:\\Users\\ashutosh.somvanshi\\PVC_Trend_Analysis\\words.ipynb Cell 6\u001b[0m in \u001b[0;36m<cell line: 12>\u001b[1;34m()\u001b[0m\n\u001b[0;32m      <a href='vscode-notebook-cell:/c%3A/Users/ashutosh.somvanshi/PVC_Trend_Analysis/words.ipynb#X25sZmlsZQ%3D%3D?line=2'>3</a>\u001b[0m \u001b[39mimport\u001b[39;00m \u001b[39mmatplotlib\u001b[39;00m\u001b[39m.\u001b[39;00m\u001b[39mpyplot\u001b[39;00m \u001b[39mas\u001b[39;00m \u001b[39mplt\u001b[39;00m\n\u001b[0;32m      <a href='vscode-notebook-cell:/c%3A/Users/ashutosh.somvanshi/PVC_Trend_Analysis/words.ipynb#X25sZmlsZQ%3D%3D?line=4'>5</a>\u001b[0m \u001b[39m# Define a list of words\u001b[39;00m\n\u001b[0;32m      <a href='vscode-notebook-cell:/c%3A/Users/ashutosh.somvanshi/PVC_Trend_Analysis/words.ipynb#X25sZmlsZQ%3D%3D?line=5'>6</a>\u001b[0m \u001b[39m#list_of_words = ['apple', 'banana', 'orange', 'peach', 'grape', 'kiwi', 'mango', 'pear', 'pineapple']\u001b[39;00m\n\u001b[0;32m      <a href='vscode-notebook-cell:/c%3A/Users/ashutosh.somvanshi/PVC_Trend_Analysis/words.ipynb#X25sZmlsZQ%3D%3D?line=6'>7</a>\u001b[0m \n\u001b[1;32m   (...)\u001b[0m\n\u001b[0;32m     <a href='vscode-notebook-cell:/c%3A/Users/ashutosh.somvanshi/PVC_Trend_Analysis/words.ipynb#X25sZmlsZQ%3D%3D?line=9'>10</a>\u001b[0m \n\u001b[0;32m     <a href='vscode-notebook-cell:/c%3A/Users/ashutosh.somvanshi/PVC_Trend_Analysis/words.ipynb#X25sZmlsZQ%3D%3D?line=10'>11</a>\u001b[0m \u001b[39m# Create a WordCloud object\u001b[39;00m\n\u001b[1;32m---> <a href='vscode-notebook-cell:/c%3A/Users/ashutosh.somvanshi/PVC_Trend_Analysis/words.ipynb#X25sZmlsZQ%3D%3D?line=11'>12</a>\u001b[0m wordcloud \u001b[39m=\u001b[39m WordCloud(width\u001b[39m=\u001b[39;49m\u001b[39m800\u001b[39;49m, height\u001b[39m=\u001b[39;49m\u001b[39m400\u001b[39;49m, background_color\u001b[39m=\u001b[39;49m\u001b[39m'\u001b[39;49m\u001b[39mwhite\u001b[39;49m\u001b[39m'\u001b[39;49m)\u001b[39m.\u001b[39;49mgenerate(ALL_text)\n\u001b[0;32m     <a href='vscode-notebook-cell:/c%3A/Users/ashutosh.somvanshi/PVC_Trend_Analysis/words.ipynb#X25sZmlsZQ%3D%3D?line=13'>14</a>\u001b[0m \u001b[39m# Plot the WordCloud\u001b[39;00m\n\u001b[0;32m     <a href='vscode-notebook-cell:/c%3A/Users/ashutosh.somvanshi/PVC_Trend_Analysis/words.ipynb#X25sZmlsZQ%3D%3D?line=14'>15</a>\u001b[0m plt\u001b[39m.\u001b[39mfigure(figsize\u001b[39m=\u001b[39m(\u001b[39m12\u001b[39m,\u001b[39m10\u001b[39m))\n",
      "File \u001b[1;32mc:\\Users\\ashutosh.somvanshi\\Anaconda3\\lib\\site-packages\\wordcloud\\wordcloud.py:639\u001b[0m, in \u001b[0;36mWordCloud.generate\u001b[1;34m(self, text)\u001b[0m\n\u001b[0;32m    624\u001b[0m \u001b[39mdef\u001b[39;00m \u001b[39mgenerate\u001b[39m(\u001b[39mself\u001b[39m, text):\n\u001b[0;32m    625\u001b[0m     \u001b[39m\"\"\"Generate wordcloud from text.\u001b[39;00m\n\u001b[0;32m    626\u001b[0m \n\u001b[0;32m    627\u001b[0m \u001b[39m    The input \"text\" is expected to be a natural text. If you pass a sorted\u001b[39;00m\n\u001b[1;32m   (...)\u001b[0m\n\u001b[0;32m    637\u001b[0m \u001b[39m    self\u001b[39;00m\n\u001b[0;32m    638\u001b[0m \u001b[39m    \"\"\"\u001b[39;00m\n\u001b[1;32m--> 639\u001b[0m     \u001b[39mreturn\u001b[39;00m \u001b[39mself\u001b[39;49m\u001b[39m.\u001b[39;49mgenerate_from_text(text)\n",
      "File \u001b[1;32mc:\\Users\\ashutosh.somvanshi\\Anaconda3\\lib\\site-packages\\wordcloud\\wordcloud.py:620\u001b[0m, in \u001b[0;36mWordCloud.generate_from_text\u001b[1;34m(self, text)\u001b[0m\n\u001b[0;32m    603\u001b[0m \u001b[39mdef\u001b[39;00m \u001b[39mgenerate_from_text\u001b[39m(\u001b[39mself\u001b[39m, text):\n\u001b[0;32m    604\u001b[0m     \u001b[39m\"\"\"Generate wordcloud from text.\u001b[39;00m\n\u001b[0;32m    605\u001b[0m \n\u001b[0;32m    606\u001b[0m \u001b[39m    The input \"text\" is expected to be a natural text. If you pass a sorted\u001b[39;00m\n\u001b[1;32m   (...)\u001b[0m\n\u001b[0;32m    618\u001b[0m \u001b[39m    self\u001b[39;00m\n\u001b[0;32m    619\u001b[0m \u001b[39m    \"\"\"\u001b[39;00m\n\u001b[1;32m--> 620\u001b[0m     words \u001b[39m=\u001b[39m \u001b[39mself\u001b[39;49m\u001b[39m.\u001b[39;49mprocess_text(text)\n\u001b[0;32m    621\u001b[0m     \u001b[39mself\u001b[39m\u001b[39m.\u001b[39mgenerate_from_frequencies(words)\n\u001b[0;32m    622\u001b[0m     \u001b[39mreturn\u001b[39;00m \u001b[39mself\u001b[39m\n",
      "File \u001b[1;32mc:\\Users\\ashutosh.somvanshi\\Anaconda3\\lib\\site-packages\\wordcloud\\wordcloud.py:582\u001b[0m, in \u001b[0;36mWordCloud.process_text\u001b[1;34m(self, text)\u001b[0m\n\u001b[0;32m    579\u001b[0m pattern \u001b[39m=\u001b[39m \u001b[39mr\u001b[39m\u001b[39m\"\u001b[39m\u001b[39m\\\u001b[39m\u001b[39mw[\u001b[39m\u001b[39m\\\u001b[39m\u001b[39mw\u001b[39m\u001b[39m'\u001b[39m\u001b[39m]*\u001b[39m\u001b[39m\"\u001b[39m \u001b[39mif\u001b[39;00m \u001b[39mself\u001b[39m\u001b[39m.\u001b[39mmin_word_length \u001b[39m<\u001b[39m\u001b[39m=\u001b[39m \u001b[39m1\u001b[39m \u001b[39melse\u001b[39;00m \u001b[39mr\u001b[39m\u001b[39m\"\u001b[39m\u001b[39m\\\u001b[39m\u001b[39mw[\u001b[39m\u001b[39m\\\u001b[39m\u001b[39mw\u001b[39m\u001b[39m'\u001b[39m\u001b[39m]+\u001b[39m\u001b[39m\"\u001b[39m\n\u001b[0;32m    580\u001b[0m regexp \u001b[39m=\u001b[39m \u001b[39mself\u001b[39m\u001b[39m.\u001b[39mregexp \u001b[39mif\u001b[39;00m \u001b[39mself\u001b[39m\u001b[39m.\u001b[39mregexp \u001b[39mis\u001b[39;00m \u001b[39mnot\u001b[39;00m \u001b[39mNone\u001b[39;00m \u001b[39melse\u001b[39;00m pattern\n\u001b[1;32m--> 582\u001b[0m words \u001b[39m=\u001b[39m re\u001b[39m.\u001b[39;49mfindall(regexp, text, flags)\n\u001b[0;32m    583\u001b[0m \u001b[39m# remove 's\u001b[39;00m\n\u001b[0;32m    584\u001b[0m words \u001b[39m=\u001b[39m [word[:\u001b[39m-\u001b[39m\u001b[39m2\u001b[39m] \u001b[39mif\u001b[39;00m word\u001b[39m.\u001b[39mlower()\u001b[39m.\u001b[39mendswith(\u001b[39m\"\u001b[39m\u001b[39m'\u001b[39m\u001b[39ms\u001b[39m\u001b[39m\"\u001b[39m) \u001b[39melse\u001b[39;00m word\n\u001b[0;32m    585\u001b[0m          \u001b[39mfor\u001b[39;00m word \u001b[39min\u001b[39;00m words]\n",
      "File \u001b[1;32mc:\\Users\\ashutosh.somvanshi\\Anaconda3\\lib\\re.py:241\u001b[0m, in \u001b[0;36mfindall\u001b[1;34m(pattern, string, flags)\u001b[0m\n\u001b[0;32m    233\u001b[0m \u001b[39mdef\u001b[39;00m \u001b[39mfindall\u001b[39m(pattern, string, flags\u001b[39m=\u001b[39m\u001b[39m0\u001b[39m):\n\u001b[0;32m    234\u001b[0m     \u001b[39m\"\"\"Return a list of all non-overlapping matches in the string.\u001b[39;00m\n\u001b[0;32m    235\u001b[0m \n\u001b[0;32m    236\u001b[0m \u001b[39m    If one or more capturing groups are present in the pattern, return\u001b[39;00m\n\u001b[1;32m   (...)\u001b[0m\n\u001b[0;32m    239\u001b[0m \n\u001b[0;32m    240\u001b[0m \u001b[39m    Empty matches are included in the result.\"\"\"\u001b[39;00m\n\u001b[1;32m--> 241\u001b[0m     \u001b[39mreturn\u001b[39;00m _compile(pattern, flags)\u001b[39m.\u001b[39;49mfindall(string)\n",
      "\u001b[1;31mTypeError\u001b[0m: expected string or bytes-like object"
     ]
    }
   ],
   "source": [
    "# Import the required libraries\n",
    "from wordcloud import WordCloud\n",
    "import matplotlib.pyplot as plt\n",
    "\n",
    "# Define a list of words\n",
    "#list_of_words = ['apple', 'banana', 'orange', 'peach', 'grape', 'kiwi', 'mango', 'pear', 'pineapple']\n",
    "\n",
    "# Convert the list of words into a string separated by spaces\n",
    "# text = ' '.join(list_of_words)\n",
    "\n",
    "# Create a WordCloud object\n",
    "wordcloud = WordCloud(width=800, height=400, background_color='white').generate(ALL_text)\n",
    "\n",
    "# Plot the WordCloud\n",
    "plt.figure(figsize=(12,10))\n",
    "plt.imshow(wordcloud, interpolation='bilinear')\n",
    "plt.axis('off')\n",
    "plt.show()\n"
   ]
  },
  {
   "cell_type": "code",
   "execution_count": 53,
   "metadata": {},
   "outputs": [],
   "source": [
    "\n"
   ]
  },
  {
   "cell_type": "code",
   "execution_count": 55,
   "metadata": {},
   "outputs": [
    {
     "data": {
      "text/plain": [
       "22388"
      ]
     },
     "execution_count": 55,
     "metadata": {},
     "output_type": "execute_result"
    }
   ],
   "source": []
  },
  {
   "cell_type": "code",
   "execution_count": 45,
   "metadata": {},
   "outputs": [
    {
     "name": "stdout",
     "output_type": "stream",
     "text": [
      "58\n",
      " \n",
      "Polímeros: Ciência e Tecnologia, vol. 19, nº 1, p. 58-62, 2009\n",
      "Autor para correspondência: Estevão Freire\n",
      ", Departamento de Engenharia Química, UCS, R. Francisco Getúlio Vargas 1130, Petrópolis, CEP: 95070-560, \n",
      "Caxias do Sul, RS, Brasil. E-mail: efreire@ucs.br\n",
      "\n",
      "Applications of PVC in Industry \n",
      "In terms of revenue generated, PVC is one of the most \n",
      "valuable products of the chemical industry. Globally, over \n",
      "50% of PVC manufactured is used in construction. As a \n",
      "building material, PVC is cheap and easy to assemble. In \n",
      "recent years, PVC has been replacing traditional building \n",
      "materials such as wood, concrete and clay in many areas. \n",
      "Despite claims that PVC production negatively affects the \n",
      "natural environment and human health, it is still widely \n",
      "used\n",
      "[4]\n",
      ".\n",
      "There are many uses for PVC. As a rigid plastic, it is \n",
      "used as vinyl siding, magnetic stripe cards, window pro˜\n",
      "-\n",
      "le, pipe, plumbing and conduit ˜xtures. PVC is common\n",
      "-\n",
      "ly used as the insulation on electric wires\n",
      "[5]\n",
      ". Frequently in \n",
      "applications where smoke is a major hazard (notably in \n",
      "tunnels) PVC-free LSOH (low-smoke, zero-halogen) cable \n",
      "insulation is used. \n",
      "In ˚at sheet form, polyvinyl chloride is often expanded \n",
      "to create voids in the material, providing additional thick\n",
      "-\n",
      "ness without additional weight. These sheets and ˜lms are \n",
      "used to produce a wide variety of commercial signage pro\n",
      "-\n",
      "ducts. The unplasticized polyvinyl chloride (uPVC) is being \n",
      "used in the building industry as a low maintenance material, \n",
      "particularly in the UK and in the USA, where it is known \n",
      "as vinyl. The same material has almost entirely replaced the \n",
      "use of cast iron for plumbing and drainage, being used for \n",
      "waste pipes, drainpipes, gutters and down pipes\n",
      "[5]\n",
      ".\n",
      "The recycling of PVC can be performed in different \n",
      "ways. Some PVC manufacturers have vinyl recycling pro\n",
      "-\n",
      "grams, recycling both manufacturing waste back into their \n",
      "products, as well as post consumer PVC construction ma\n",
      "-\n",
      "terials to reduce the load on land˜lls. Another alternative to \n",
      "Introduction\n",
      "Worldwide, extruder lines are the largest converters of \n",
      "plastics and can be considered the most important produc\n",
      "-\n",
      "tion machinery in the plastic industry. Commercially, ex\n",
      "-\n",
      "trusion lines are target to give advantages with regard to \n",
      "operating cost (output per hour). It is possible to produce \n",
      "throughout extrusion ˜lms, sheets, pro˜les, pipes, tubes, \n",
      "rods, wire coverings, coatings, ˜laments, blown shapes \n",
      "and many others. Pipes are one of the most important parts \n",
      "made by extrusion, and it has a wide range of applications, \n",
      "especially in the industry. The two main reasons that make \n",
      "them attractive to the processors and markets are their al\n",
      "-\n",
      "most unlimited range of applications and their continuous \n",
      "production capabilities to meet new market challenges\n",
      "[1]\n",
      ".\n",
      "The production of thermoplastic pipe systems is a major \n",
      "industry which accounts for a signi˜cant volume of poly\n",
      "-\n",
      "mers. Use of plastics materials by the building industry re\n",
      "-\n",
      "presents the second largest worldwide market for polymers. \n",
      "For pipe production this amount to a total market demands \n",
      "of nearly 3 million tons in Europe for 2000™s\n",
      "[2]\n",
      ".\n",
      "Plastic pipes started commercial production during the \n",
      "late 1930™s. There are different de˜nitions that are usually \n",
      "associated with the different industries (plumbing, gas \n",
      "transmission lines, beverages, medical, mining, etc.). The \n",
      "most known and acceptable is that pipe is a rigid, hollow, \n",
      "long and larger piece in diameter than tubes\n",
      "[1]\n",
      ". Tubings are \n",
      "basically the same except they are ˚exible and smaller in \n",
      "diameter with thin walls up to 6 in\n",
      "[3]\n",
      ". \n",
      "This paper covers the production of PVC pipes made \n",
      "by extrusion, a market study and the machinery and equip\n",
      "-\n",
      "ments needed for a PVC extrusion line. \n",
      "Applications and Market of PVC for Piping Industry\n",
      "Johnny De N. Martins, Estevão Freire\n",
      "Departamento de Engenharia Química, UCS\n",
      "Henry Hemadipour\n",
      "Kansas Technology Center, Pittsburg State University, USA\n",
      "Abstract: \n",
      "The use of plastic materials by the piping industry accounts for a signi˜cant volume of polymers. In this segment \n",
      "PVC represents the largest worldwide market for plastics. PVC is often used in plastic pressure pipe systems for pipelines \n",
      "in the water and sewer industries because of its inexpensive nature and ˚exibility. Pipes and ˜ttings constitute the largest \n",
      "volume application at 40% of the marketplace. This paper discusses the piping extrusion process and the worldwide PVC \n",
      "market, emphasizing the Brazilian market. It is also presented a case study including an overall cost calculation for making \n",
      "an extrusion line for PVC piping. \n",
      "Keywords: \n",
      "PVC, piping industry, market, extrusion process.\n",
      "\n"
     ]
    }
   ],
   "source": [
    "print(ALL_text[1])"
   ]
  },
  {
   "cell_type": "code",
   "execution_count": 10,
   "metadata": {},
   "outputs": [
    {
     "ename": "TypeError",
     "evalue": "'list' object is not callable",
     "output_type": "error",
     "traceback": [
      "\u001b[1;31m---------------------------------------------------------------------------\u001b[0m",
      "\u001b[1;31mTypeError\u001b[0m                                 Traceback (most recent call last)",
      "\u001b[1;32mc:\\Users\\ashutosh.somvanshi\\PVC_Trend_Analysis\\words.ipynb Cell 5\u001b[0m in \u001b[0;36m<cell line: 2>\u001b[1;34m()\u001b[0m\n\u001b[0;32m      <a href='vscode-notebook-cell:/c%3A/Users/ashutosh.somvanshi/PVC_Trend_Analysis/words.ipynb#W3sZmlsZQ%3D%3D?line=0'>1</a>\u001b[0m \u001b[39m# Remove stop words from the list of words\u001b[39;00m\n\u001b[1;32m----> <a href='vscode-notebook-cell:/c%3A/Users/ashutosh.somvanshi/PVC_Trend_Analysis/words.ipynb#W3sZmlsZQ%3D%3D?line=1'>2</a>\u001b[0m stop_words \u001b[39m=\u001b[39m \u001b[39mset\u001b[39m(words(\u001b[39m'\u001b[39;49m\u001b[39menglish\u001b[39;49m\u001b[39m'\u001b[39;49m))\n\u001b[0;32m      <a href='vscode-notebook-cell:/c%3A/Users/ashutosh.somvanshi/PVC_Trend_Analysis/words.ipynb#W3sZmlsZQ%3D%3D?line=2'>3</a>\u001b[0m filtered_words \u001b[39m=\u001b[39m [word \u001b[39mfor\u001b[39;00m word \u001b[39min\u001b[39;00m words \u001b[39mif\u001b[39;00m word\u001b[39m.\u001b[39mlower() \u001b[39mnot\u001b[39;00m \u001b[39min\u001b[39;00m stop_words]\n\u001b[0;32m      <a href='vscode-notebook-cell:/c%3A/Users/ashutosh.somvanshi/PVC_Trend_Analysis/words.ipynb#W3sZmlsZQ%3D%3D?line=4'>5</a>\u001b[0m \u001b[39m# Print the filtered list of words\u001b[39;00m\n",
      "\u001b[1;31mTypeError\u001b[0m: 'list' object is not callable"
     ]
    }
   ],
   "source": [
    "# Remove stop words from the list of words\n",
    "stop_words = set(words('english'))\n",
    "filtered_words = [word for word in words if word.lower() not in stop_words]\n",
    "\n",
    "# Print the filtered list of words\n",
    "print(filtered_words)"
   ]
  },
  {
   "cell_type": "code",
   "execution_count": 23,
   "metadata": {},
   "outputs": [
    {
     "data": {
      "text/plain": [
       "list"
      ]
     },
     "execution_count": 23,
     "metadata": {},
     "output_type": "execute_result"
    }
   ],
   "source": [
    "type(words)"
   ]
  },
  {
   "cell_type": "code",
   "execution_count": 12,
   "metadata": {},
   "outputs": [],
   "source": [
    "import pandas as pd"
   ]
  },
  {
   "cell_type": "code",
   "execution_count": 24,
   "metadata": {},
   "outputs": [],
   "source": [
    "words_d_f = pd.DataFrame(words,columns=['WORDS'])\n",
    "\n",
    "\n"
   ]
  },
  {
   "cell_type": "code",
   "execution_count": 25,
   "metadata": {},
   "outputs": [
    {
     "data": {
      "text/html": [
       "<div>\n",
       "<style scoped>\n",
       "    .dataframe tbody tr th:only-of-type {\n",
       "        vertical-align: middle;\n",
       "    }\n",
       "\n",
       "    .dataframe tbody tr th {\n",
       "        vertical-align: top;\n",
       "    }\n",
       "\n",
       "    .dataframe thead th {\n",
       "        text-align: right;\n",
       "    }\n",
       "</style>\n",
       "<table border=\"1\" class=\"dataframe\">\n",
       "  <thead>\n",
       "    <tr style=\"text-align: right;\">\n",
       "      <th></th>\n",
       "      <th>WORDS</th>\n",
       "    </tr>\n",
       "  </thead>\n",
       "  <tbody>\n",
       "    <tr>\n",
       "      <th>0</th>\n",
       "      <td>Martins</td>\n",
       "    </tr>\n",
       "    <tr>\n",
       "      <th>1</th>\n",
       "      <td>J</td>\n",
       "    </tr>\n",
       "    <tr>\n",
       "      <th>2</th>\n",
       "      <td>N</td>\n",
       "    </tr>\n",
       "    <tr>\n",
       "      <th>3</th>\n",
       "      <td>et</td>\n",
       "    </tr>\n",
       "    <tr>\n",
       "      <th>4</th>\n",
       "      <td>al</td>\n",
       "    </tr>\n",
       "    <tr>\n",
       "      <th>...</th>\n",
       "      <td>...</td>\n",
       "    </tr>\n",
       "    <tr>\n",
       "      <th>688</th>\n",
       "      <td>stabilizers</td>\n",
       "    </tr>\n",
       "    <tr>\n",
       "      <th>689</th>\n",
       "      <td>which</td>\n",
       "    </tr>\n",
       "    <tr>\n",
       "      <th>690</th>\n",
       "      <td>View</td>\n",
       "    </tr>\n",
       "    <tr>\n",
       "      <th>691</th>\n",
       "      <td>publication</td>\n",
       "    </tr>\n",
       "    <tr>\n",
       "      <th>692</th>\n",
       "      <td>stats</td>\n",
       "    </tr>\n",
       "  </tbody>\n",
       "</table>\n",
       "<p>693 rows × 1 columns</p>\n",
       "</div>"
      ],
      "text/plain": [
       "           WORDS\n",
       "0        Martins\n",
       "1              J\n",
       "2              N\n",
       "3             et\n",
       "4             al\n",
       "..           ...\n",
       "688  stabilizers\n",
       "689        which\n",
       "690         View\n",
       "691  publication\n",
       "692        stats\n",
       "\n",
       "[693 rows x 1 columns]"
      ]
     },
     "execution_count": 25,
     "metadata": {},
     "output_type": "execute_result"
    }
   ],
   "source": [
    "words_d_f"
   ]
  },
  {
   "cell_type": "code",
   "execution_count": 27,
   "metadata": {},
   "outputs": [
    {
     "data": {
      "text/plain": [
       "<bound method DataFrame.nunique of            WORDS\n",
       "0        Martins\n",
       "1              J\n",
       "2              N\n",
       "3             et\n",
       "4             al\n",
       "..           ...\n",
       "688  stabilizers\n",
       "689        which\n",
       "690         View\n",
       "691  publication\n",
       "692        stats\n",
       "\n",
       "[693 rows x 1 columns]>"
      ]
     },
     "execution_count": 27,
     "metadata": {},
     "output_type": "execute_result"
    }
   ],
   "source": [
    "words_d_f.nunique"
   ]
  },
  {
   "cell_type": "code",
   "execution_count": 28,
   "metadata": {},
   "outputs": [
    {
     "data": {
      "text/plain": [
       "(693, 1)"
      ]
     },
     "execution_count": 28,
     "metadata": {},
     "output_type": "execute_result"
    }
   ],
   "source": [
    "words_d_f.shape"
   ]
  },
  {
   "cell_type": "code",
   "execution_count": 36,
   "metadata": {},
   "outputs": [
    {
     "data": {
      "text/plain": [
       "693"
      ]
     },
     "execution_count": 36,
     "metadata": {},
     "output_type": "execute_result"
    }
   ],
   "source": [
    "len(words) "
   ]
  },
  {
   "cell_type": "code",
   "execution_count": 35,
   "metadata": {},
   "outputs": [
    {
     "data": {
      "text/plain": [
       "383"
      ]
     },
     "execution_count": 35,
     "metadata": {},
     "output_type": "execute_result"
    }
   ],
   "source": [
    "len(set(words))"
   ]
  },
  {
   "cell_type": "code",
   "execution_count": null,
   "metadata": {},
   "outputs": [],
   "source": []
  }
 ],
 "metadata": {
  "kernelspec": {
   "display_name": "base",
   "language": "python",
   "name": "python3"
  },
  "language_info": {
   "codemirror_mode": {
    "name": "ipython",
    "version": 3
   },
   "file_extension": ".py",
   "mimetype": "text/x-python",
   "name": "python",
   "nbconvert_exporter": "python",
   "pygments_lexer": "ipython3",
   "version": "3.9.12"
  },
  "orig_nbformat": 4,
  "vscode": {
   "interpreter": {
    "hash": "3e3b0f8abeddb90e9f09b131e5503d4b23e23a895009aedaa1d81a6097fdd778"
   }
  }
 },
 "nbformat": 4,
 "nbformat_minor": 2
}
