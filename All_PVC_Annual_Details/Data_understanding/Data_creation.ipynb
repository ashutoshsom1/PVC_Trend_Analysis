{
 "cells": [
  {
   "attachments": {},
   "cell_type": "markdown",
   "metadata": {},
   "source": [
    "## Data Creation "
   ]
  },
  {
   "attachments": {},
   "cell_type": "markdown",
   "metadata": {},
   "source": [
    "### ** text file creation of  reports"
   ]
  },
  {
   "attachments": {},
   "cell_type": "markdown",
   "metadata": {},
   "source": [
    "#### Astral"
   ]
  },
  {
   "cell_type": "code",
   "execution_count": 11,
   "metadata": {},
   "outputs": [
    {
     "name": "stdout",
     "output_type": "stream",
     "text": [
      "Extracted text from 1538747002_368_l.pdf and saved it to C:\\Users\\ashutosh.somvanshi\\PVC_Trend_Analysis\\All_PVC_Annual_Details\\Annual_report_all\\Astral\\converted_to_text/1538747002_368_l.txt\n",
      "Extracted text from 1562584589_astral_ar_2018-19_final.pdf and saved it to C:\\Users\\ashutosh.somvanshi\\PVC_Trend_Analysis\\All_PVC_Annual_Details\\Annual_report_all\\Astral\\converted_to_text/1562584589_astral_ar_2018-19_final.txt\n"
     ]
    },
    {
     "name": "stderr",
     "output_type": "stream",
     "text": [
      "PdfReadWarning: Xref table not zero-indexed. ID numbers for objects will be corrected. [pdf.py:1801]\n"
     ]
    },
    {
     "name": "stdout",
     "output_type": "stream",
     "text": [
      "Extracted text from 1595913845_astral_annual_report_2019-2020.pdf and saved it to C:\\Users\\ashutosh.somvanshi\\PVC_Trend_Analysis\\All_PVC_Annual_Details\\Annual_report_all\\Astral\\converted_to_text/1595913845_astral_annual_report_2019-2020.txt\n",
      "Extracted text from 1627889388_astral_annural_report_2020-21.pdf and saved it to C:\\Users\\ashutosh.somvanshi\\PVC_Trend_Analysis\\All_PVC_Annual_Details\\Annual_report_all\\Astral\\converted_to_text/1627889388_astral_annural_report_2020-21.txt\n",
      "Extracted text from 1659715890_astral_annual_report_2021-2022.pdf and saved it to C:\\Users\\ashutosh.somvanshi\\PVC_Trend_Analysis\\All_PVC_Annual_Details\\Annual_report_all\\Astral\\converted_to_text/1659715890_astral_annual_report_2021-2022.txt\n"
     ]
    }
   ],
   "source": [
    "import os\n",
    "import PyPDF4\n",
    "\n",
    "def extract_text_from_pdf(pdf_path):\n",
    "    with open(pdf_path, 'rb') as pdf_file:\n",
    "        pdf_reader = PyPDF4.PdfFileReader(pdf_file)\n",
    "        text = ''\n",
    "        for page_num in range(pdf_reader.numPages):\n",
    "            page = pdf_reader.getPage(page_num)\n",
    "            text += page.extractText()\n",
    "    return text\n",
    "\n",
    "# Specify the folder path where the PDF files are located\n",
    "folder_path = r'C:\\Users\\ashutosh.somvanshi\\PVC_Trend_Analysis\\All_PVC_Annual_Details\\Annual_report_all\\Astral'\n",
    "\n",
    "# Specify the folder path where the txt files will be saved\n",
    "txt_folder_path = r'C:\\Users\\ashutosh.somvanshi\\PVC_Trend_Analysis\\All_PVC_Annual_Details\\Annual_report_all\\Astral\\converted_to_text'+\"/\"\n",
    "os.makedirs(txt_folder_path, exist_ok=True)\n",
    "\n",
    "# Get a list of all PDF files in the folder\n",
    "pdf_files = [f for f in os.listdir(folder_path) if f.endswith('.pdf')]\n",
    "\n",
    "# Iterate over each PDF file and extract the necessary information\n",
    "for pdf_file in pdf_files:\n",
    "    pdf_path = os.path.join(folder_path, pdf_file)\n",
    "    text = extract_text_from_pdf(pdf_path)\n",
    "\n",
    "     # Create a new text file with the same name as the PDF file in the text_folder_path\n",
    "    text_file_path = os.path.join(txt_folder_path, pdf_file.replace('.pdf', '.txt'))\n",
    "    with open(text_file_path, 'w') as text_file:\n",
    "        text_file.write(text)\n",
    "\n",
    "    print(f\"Extracted text from {pdf_file} and saved it to {text_file_path}\")\n"
   ]
  },
  {
   "attachments": {},
   "cell_type": "markdown",
   "metadata": {},
   "source": [
    "#### Nilkamal\n"
   ]
  },
  {
   "cell_type": "code",
   "execution_count": 12,
   "metadata": {},
   "outputs": [
    {
     "name": "stdout",
     "output_type": "stream",
     "text": [
      "Extracted text from 2017-18.pdf and saved it to C:\\Users\\ashutosh.somvanshi\\PVC_Trend_Analysis\\All_PVC_Annual_Details\\Annual_report_all\\Nilkamal\\converted_to_text/2017-18.txt\n",
      "Extracted text from ANNUAL_REPORT_2018_2019.pdf and saved it to C:\\Users\\ashutosh.somvanshi\\PVC_Trend_Analysis\\All_PVC_Annual_Details\\Annual_report_all\\Nilkamal\\converted_to_text/ANNUAL_REPORT_2018_2019.txt\n",
      "Extracted text from FY-2019-20-1.pdf and saved it to C:\\Users\\ashutosh.somvanshi\\PVC_Trend_Analysis\\All_PVC_Annual_Details\\Annual_report_all\\Nilkamal\\converted_to_text/FY-2019-20-1.txt\n",
      "Extracted text from FY-2020-21.pdf and saved it to C:\\Users\\ashutosh.somvanshi\\PVC_Trend_Analysis\\All_PVC_Annual_Details\\Annual_report_all\\Nilkamal\\converted_to_text/FY-2020-21.txt\n",
      "Extracted text from FY-2021-22.pdf and saved it to C:\\Users\\ashutosh.somvanshi\\PVC_Trend_Analysis\\All_PVC_Annual_Details\\Annual_report_all\\Nilkamal\\converted_to_text/FY-2021-22.txt\n"
     ]
    }
   ],
   "source": [
    "import os\n",
    "import PyPDF4\n",
    "\n",
    "def extract_text_from_pdf(pdf_path):\n",
    "    with open(pdf_path, 'rb') as pdf_file:\n",
    "        pdf_reader = PyPDF4.PdfFileReader(pdf_file)\n",
    "        text = ''\n",
    "        for page_num in range(pdf_reader.numPages):\n",
    "            page = pdf_reader.getPage(page_num)\n",
    "            text += page.extractText()\n",
    "    return text\n",
    "\n",
    "# Specify the folder path where the PDF files are located\n",
    "folder_path = r'C:\\Users\\ashutosh.somvanshi\\PVC_Trend_Analysis\\All_PVC_Annual_Details\\Annual_report_all\\Nilkamal'\n",
    "\n",
    "# Specify the folder path where the txt files will be saved\n",
    "txt_folder_path = r'C:\\Users\\ashutosh.somvanshi\\PVC_Trend_Analysis\\All_PVC_Annual_Details\\Annual_report_all\\Nilkamal\\converted_to_text'+\"/\"\n",
    "os.makedirs(txt_folder_path, exist_ok=True)\n",
    "\n",
    "# Get a list of all PDF files in the folder\n",
    "pdf_files = [f for f in os.listdir(folder_path) if f.endswith('.pdf')]\n",
    "\n",
    "# Iterate over each PDF file and extract the necessary information\n",
    "for pdf_file in pdf_files:\n",
    "    pdf_path = os.path.join(folder_path, pdf_file)\n",
    "    text = extract_text_from_pdf(pdf_path)\n",
    "\n",
    "    text_file_path = os.path.join(txt_folder_path, pdf_file.replace('.pdf', '.txt'))\n",
    "    with open(text_file_path, 'w') as text_file:\n",
    "        text_file.write(text)\n",
    "\n",
    "    print(f\"Extracted text from {pdf_file} and saved it to {text_file_path}\")\n"
   ]
  },
  {
   "attachments": {},
   "cell_type": "markdown",
   "metadata": {},
   "source": [
    "#### Supreme"
   ]
  },
  {
   "cell_type": "code",
   "execution_count": 13,
   "metadata": {},
   "outputs": [
    {
     "name": "stdout",
     "output_type": "stream",
     "text": [
      "Extracted text from annual-repoerts-2017-Dec.pdf and saved it to C:\\Users\\ashutosh.somvanshi\\PVC_Trend_Analysis\\All_PVC_Annual_Details\\Annual_report_all\\Supreme\\converted_to_text/annual-repoerts-2017-Dec.txt\n",
      "Extracted text from annual-repoerts-2018-Oct.pdf and saved it to C:\\Users\\ashutosh.somvanshi\\PVC_Trend_Analysis\\All_PVC_Annual_Details\\Annual_report_all\\Supreme\\converted_to_text/annual-repoerts-2018-Oct.txt\n",
      "Extracted text from annual-repoerts-2019-Dec.pdf and saved it to C:\\Users\\ashutosh.somvanshi\\PVC_Trend_Analysis\\All_PVC_Annual_Details\\Annual_report_all\\Supreme\\converted_to_text/annual-repoerts-2019-Dec.txt\n",
      "Extracted text from annual-repoerts-2020-Sep.pdf and saved it to C:\\Users\\ashutosh.somvanshi\\PVC_Trend_Analysis\\All_PVC_Annual_Details\\Annual_report_all\\Supreme\\converted_to_text/annual-repoerts-2020-Sep.txt\n",
      "Extracted text from annual-repoerts-2021-Jun.pdf and saved it to C:\\Users\\ashutosh.somvanshi\\PVC_Trend_Analysis\\All_PVC_Annual_Details\\Annual_report_all\\Supreme\\converted_to_text/annual-repoerts-2021-Jun.txt\n"
     ]
    }
   ],
   "source": [
    "import os\n",
    "import PyPDF4\n",
    "\n",
    "def extract_text_from_pdf(pdf_path):\n",
    "    with open(pdf_path, 'rb') as pdf_file:\n",
    "        pdf_reader = PyPDF4.PdfFileReader(pdf_file)\n",
    "        text = ''\n",
    "        for page_num in range(pdf_reader.numPages):\n",
    "            page = pdf_reader.getPage(page_num)\n",
    "            text += page.extractText()\n",
    "    return text\n",
    "\n",
    "# Specify the folder path where the PDF files are located\n",
    "folder_path = r'C:\\Users\\ashutosh.somvanshi\\PVC_Trend_Analysis\\All_PVC_Annual_Details\\Annual_report_all\\Supreme'\n",
    "\n",
    "# Specify the folder path where the txt files will be saved\n",
    "txt_folder_path = r'C:\\Users\\ashutosh.somvanshi\\PVC_Trend_Analysis\\All_PVC_Annual_Details\\Annual_report_all\\Supreme\\converted_to_text'+\"/\"\n",
    "os.makedirs(txt_folder_path, exist_ok=True)\n",
    "\n",
    "# Get a list of all PDF files in the folder\n",
    "pdf_files = [f for f in os.listdir(folder_path) if f.endswith('.pdf')]\n",
    "\n",
    "# Iterate over each PDF file and extract the necessary information\n",
    "for pdf_file in pdf_files:\n",
    "    pdf_path = os.path.join(folder_path, pdf_file)\n",
    "    text = extract_text_from_pdf(pdf_path)\n",
    "\n",
    "     # Create a new text file with the same name as the PDF file in the text_folder_path\n",
    "    text_file_path = os.path.join(txt_folder_path, pdf_file.replace('.pdf', '.txt'))\n",
    "    with open(text_file_path, 'w') as text_file:\n",
    "        text_file.write(text)\n",
    "\n",
    "    print(f\"Extracted text from {pdf_file} and saved it to {text_file_path}\")\n"
   ]
  },
  {
   "attachments": {},
   "cell_type": "markdown",
   "metadata": {},
   "source": [
    "#### Prince pipes"
   ]
  },
  {
   "cell_type": "code",
   "execution_count": 14,
   "metadata": {},
   "outputs": [
    {
     "name": "stdout",
     "output_type": "stream",
     "text": [
      "Extracted text from Annual-Report-2019-2020.pdf and saved it to C:\\Users\\ashutosh.somvanshi\\PVC_Trend_Analysis\\All_PVC_Annual_Details\\Annual_report_all\\Prince_pipes\\converted_to_text/Annual-Report-2019-2020.txt\n",
      "Extracted text from annual-report-2020-21.pdf and saved it to C:\\Users\\ashutosh.somvanshi\\PVC_Trend_Analysis\\All_PVC_Annual_Details\\Annual_report_all\\Prince_pipes\\converted_to_text/annual-report-2020-21.txt\n",
      "Extracted text from Annual-Report-2021-22.pdf and saved it to C:\\Users\\ashutosh.somvanshi\\PVC_Trend_Analysis\\All_PVC_Annual_Details\\Annual_report_all\\Prince_pipes\\converted_to_text/Annual-Report-2021-22.txt\n"
     ]
    }
   ],
   "source": [
    "import os\n",
    "import PyPDF4\n",
    "\n",
    "def extract_text_from_pdf(pdf_path):\n",
    "    with open(pdf_path, 'rb') as pdf_file:\n",
    "        pdf_reader = PyPDF4.PdfFileReader(pdf_file)\n",
    "        text = ''\n",
    "        for page_num in range(pdf_reader.numPages):\n",
    "            page = pdf_reader.getPage(page_num)\n",
    "            text += page.extractText()\n",
    "    return text\n",
    "\n",
    "# Specify the folder path where the PDF files are located\n",
    "folder_path = r'C:\\Users\\ashutosh.somvanshi\\PVC_Trend_Analysis\\All_PVC_Annual_Details\\Annual_report_all\\Prince_pipes'\n",
    "\n",
    "# Specify the folder path where the txt files will be saved\n",
    "txt_folder_path = r'C:\\Users\\ashutosh.somvanshi\\PVC_Trend_Analysis\\All_PVC_Annual_Details\\Annual_report_all\\Prince_pipes\\converted_to_text'+\"/\"\n",
    "os.makedirs(txt_folder_path, exist_ok=True)\n",
    "\n",
    "# Get a list of all PDF files in the folder\n",
    "pdf_files = [f for f in os.listdir(folder_path) if f.endswith('.pdf')]\n",
    "\n",
    "# Iterate over each PDF file and extract the necessary information\n",
    "for pdf_file in pdf_files:\n",
    "    pdf_path = os.path.join(folder_path, pdf_file)\n",
    "    text = extract_text_from_pdf(pdf_path)\n",
    "\n",
    "     # Create a new text file with the same name as the PDF file in the text_folder_path\n",
    "    text_file_path = os.path.join(txt_folder_path, pdf_file.replace('.pdf', '.txt'))\n",
    "    with open(text_file_path, 'w') as text_file:\n",
    "        text_file.write(text)\n",
    "\n",
    "    print(f\"Extracted text from {pdf_file} and saved it to {text_file_path}\")\n"
   ]
  },
  {
   "attachments": {},
   "cell_type": "markdown",
   "metadata": {},
   "source": [
    "#  Creating single txt file including every thing"
   ]
  },
  {
   "cell_type": "code",
   "execution_count": 20,
   "metadata": {},
   "outputs": [
    {
     "name": "stdout",
     "output_type": "stream",
     "text": [
      "Concatenated text files from the folders into C:\\Users\\ashutosh.somvanshi\\PVC_Trend_Analysis\\All_PVC_Annual_Details\\Annual_report_all\\Data__txt\\all_annual_reports.txt\n"
     ]
    }
   ],
   "source": [
    "import os\n",
    "\n",
    "def concatenate_text_files(folder_paths, output_file_path):\n",
    "    with open(output_file_path, 'w') as output_file:\n",
    "        for folder_path in folder_paths:\n",
    "            for root, dirs, files in os.walk(folder_path):\n",
    "                for file_name in files:\n",
    "                    if file_name.endswith('.txt'):\n",
    "                        file_path = os.path.join(root, file_name)\n",
    "                        with open(file_path, 'r') as input_file:\n",
    "                            output_file.write(input_file.read())\n",
    "                            output_file.write('\\n')\n",
    "\n",
    "# Specify the paths of the three folders containing the text files\n",
    "folder_paths = [\n",
    "    r'C:\\Users\\ashutosh.somvanshi\\PVC_Trend_Analysis\\All_PVC_Annual_Details\\Annual_report_all\\Astral\\converted_to_text',\n",
    "    r'C:\\Users\\ashutosh.somvanshi\\PVC_Trend_Analysis\\All_PVC_Annual_Details\\Annual_report_all\\Nilkamal\\converted_to_text',\n",
    "    r'C:\\Users\\ashutosh.somvanshi\\PVC_Trend_Analysis\\All_PVC_Annual_Details\\Annual_report_all\\Prince_pipes\\converted_to_text',\n",
    "    r'C:\\Users\\ashutosh.somvanshi\\PVC_Trend_Analysis\\All_PVC_Annual_Details\\Annual_report_all\\Supreme\\converted_to_text'\n",
    "]\n",
    "\n",
    "# Specify the path of the output text file\n",
    "output_file_path = r'C:\\Users\\ashutosh.somvanshi\\PVC_Trend_Analysis\\All_PVC_Annual_Details\\Annual_report_all\\Data__txt\\all_annual_reports.txt'\n",
    "# os.makedirs(output_file_path, exist_ok=True)\n",
    "\n",
    "# Concatenate the text files into a single output file\n",
    "concatenate_text_files(folder_paths, output_file_path)\n",
    "\n",
    "print(f\"Concatenated text files from the folders into {output_file_path}\")\n"
   ]
  },
  {
   "attachments": {},
   "cell_type": "markdown",
   "metadata": {},
   "source": [
    "#######################################################################################\n"
   ]
  },
  {
   "cell_type": "code",
   "execution_count": 21,
   "metadata": {},
   "outputs": [],
   "source": [
    "output_file_path = r\"C:\\Users\\ashutosh.somvanshi\\PVC_Trend_Analysis\\All_PVC_Annual_Details\\Application\\seprate_data_file\""
   ]
  },
  {
   "cell_type": "code",
   "execution_count": 23,
   "metadata": {},
   "outputs": [],
   "source": [
    "output_file_path = r\"C:\\Users\\ashutosh.somvanshi\\PVC_Trend_Analysis\\All_PVC_Annual_Details\\Application\\all_data_file\""
   ]
  },
  {
   "cell_type": "code",
   "execution_count": 24,
   "metadata": {},
   "outputs": [],
   "source": [
    "os.makedirs(output_file_path, exist_ok=True)"
   ]
  },
  {
   "cell_type": "code",
   "execution_count": null,
   "metadata": {},
   "outputs": [],
   "source": []
  }
 ],
 "metadata": {
  "kernelspec": {
   "display_name": "base",
   "language": "python",
   "name": "python3"
  },
  "language_info": {
   "codemirror_mode": {
    "name": "ipython",
    "version": 3
   },
   "file_extension": ".py",
   "mimetype": "text/x-python",
   "name": "python",
   "nbconvert_exporter": "python",
   "pygments_lexer": "ipython3",
   "version": "3.9.12"
  },
  "orig_nbformat": 4,
  "vscode": {
   "interpreter": {
    "hash": "3e3b0f8abeddb90e9f09b131e5503d4b23e23a895009aedaa1d81a6097fdd778"
   }
  }
 },
 "nbformat": 4,
 "nbformat_minor": 2
}
